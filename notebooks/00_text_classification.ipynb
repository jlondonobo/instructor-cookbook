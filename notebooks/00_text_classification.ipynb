{
 "cells": [
  {
   "cell_type": "markdown",
   "metadata": {},
   "source": [
    "# Text classification with Instructor"
   ]
  },
  {
   "cell_type": "markdown",
   "metadata": {},
   "source": [
    "- Single lable\n",
    "- Multi-label"
   ]
  },
  {
   "cell_type": "code",
   "execution_count": 5,
   "metadata": {},
   "outputs": [],
   "source": [
    "import enum\n",
    "from pydantic import BaseModel"
   ]
  },
  {
   "cell_type": "code",
   "execution_count": 6,
   "metadata": {},
   "outputs": [],
   "source": [
    "class Labels(str, enum.Enum):\n",
    "    CUSTOMER = \"customer\"\n",
    "    INTERNAL = \"internal\"\n",
    "    \n",
    "class SinglePrediction(BaseModel):\n",
    "    class_label: Labels"
   ]
  },
  {
   "cell_type": "code",
   "execution_count": 7,
   "metadata": {},
   "outputs": [],
   "source": [
    "from openai import OpenAI\n",
    "import instructor"
   ]
  },
  {
   "cell_type": "code",
   "execution_count": 8,
   "metadata": {},
   "outputs": [],
   "source": [
    "client = instructor.from_openai(OpenAI())"
   ]
  },
  {
   "cell_type": "code",
   "execution_count": 13,
   "metadata": {},
   "outputs": [],
   "source": [
    "def classify(data: str) -> SinglePrediction:\n",
    "    return client.chat.completions.create(\n",
    "      model=\"gpt-3.5-turbo-0613\",\n",
    "      response_model=SinglePrediction,\n",
    "      messages=[\n",
    "        {\"role\": \"user\", \"content\": f\"Classify the following chat message based on weather it's client or internal communication: {data}\"}\n",
    "      ]\n",
    "    )"
   ]
  },
  {
   "cell_type": "code",
   "execution_count": 11,
   "metadata": {},
   "outputs": [
    {
     "name": "stdout",
     "output_type": "stream",
     "text": [
      "Labels.CUSTOMER\n"
     ]
    }
   ],
   "source": [
    "message = \"Dear Alejandra, thanks for purchasing our product. The delivery will be made tomorrow.\"\n",
    "prediction = classify(message)\n",
    "print(prediction.class_label)"
   ]
  },
  {
   "cell_type": "code",
   "execution_count": 15,
   "metadata": {},
   "outputs": [
    {
     "name": "stdout",
     "output_type": "stream",
     "text": [
      "Labels.CUSTOMER\n"
     ]
    }
   ],
   "source": [
    "message = \"Hey mike, I'mma be late for the meeting. Can you talk to the client without me?\"\n",
    "prediction = classify(message)\n",
    "print(prediction.class_label)"
   ]
  }
 ],
 "metadata": {
  "kernelspec": {
   "display_name": ".venv",
   "language": "python",
   "name": "python3"
  },
  "language_info": {
   "codemirror_mode": {
    "name": "ipython",
    "version": 3
   },
   "file_extension": ".py",
   "mimetype": "text/x-python",
   "name": "python",
   "nbconvert_exporter": "python",
   "pygments_lexer": "ipython3",
   "version": "3.10.10"
  }
 },
 "nbformat": 4,
 "nbformat_minor": 2
}
