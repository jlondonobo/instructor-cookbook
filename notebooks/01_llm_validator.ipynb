{
 "cells": [
  {
   "cell_type": "markdown",
   "metadata": {},
   "source": [
    "# LLM validator\n",
    "How use self-correction with llm_validator"
   ]
  },
  {
   "cell_type": "code",
   "execution_count": 1,
   "metadata": {},
   "outputs": [],
   "source": [
    "from openai import OpenAI\n",
    "from pydantic import BaseModel\n",
    "import instructor"
   ]
  },
  {
   "cell_type": "code",
   "execution_count": 2,
   "metadata": {},
   "outputs": [],
   "source": [
    "client = instructor.from_openai(OpenAI())"
   ]
  },
  {
   "cell_type": "code",
   "execution_count": 3,
   "metadata": {},
   "outputs": [],
   "source": [
    "class QuestionAnswer(BaseModel):\n",
    "  question: str\n",
    "  answer: str\n",
    "  \n",
    "question = \"What's the name of Harry Potter's main villain?\"\n",
    "response: QuestionAnswer = client.chat.completions.create(\n",
    "  model=\"gpt-3.5-turbo\",\n",
    "  response_model=QuestionAnswer,\n",
    "  messages=[\n",
    "    {\"role\": \"system\", \"content\": \"You are an expert in Harry Potter trivia.\"},\n",
    "    {\"role\": \"user\", \"content\": question},\n",
    "  ]\n",
    ")"
   ]
  },
  {
   "cell_type": "markdown",
   "metadata": {},
   "source": [
    "## Adding custom validation"
   ]
  },
  {
   "cell_type": "code",
   "execution_count": 6,
   "metadata": {},
   "outputs": [],
   "source": [
    "from pydantic import BeforeValidator\n",
    "from typing import Annotated\n",
    "from instructor import llm_validator"
   ]
  },
  {
   "cell_type": "code",
   "execution_count": null,
   "metadata": {},
   "outputs": [],
   "source": [
    "class QuestionAnswerNoEvil(BaseModel):\n",
    "  question: str\n",
    "  answer: Annotated[str, BeforeValidator(llm_validator(\"Don't every mention the name of he who must not be named\", allow_override=True))]"
   ]
  }
 ],
 "metadata": {
  "kernelspec": {
   "display_name": ".venv",
   "language": "python",
   "name": "python3"
  },
  "language_info": {
   "codemirror_mode": {
    "name": "ipython",
    "version": 3
   },
   "file_extension": ".py",
   "mimetype": "text/x-python",
   "name": "python",
   "nbconvert_exporter": "python",
   "pygments_lexer": "ipython3",
   "version": "3.10.10"
  }
 },
 "nbformat": 4,
 "nbformat_minor": 2
}
