{
 "cells": [
  {
   "cell_type": "markdown",
   "metadata": {},
   "source": [
    "# Bulk Classification\n",
    "For example to tag documents based on their content"
   ]
  },
  {
   "cell_type": "code",
   "execution_count": 3,
   "metadata": {},
   "outputs": [],
   "source": [
    "import openai\n",
    "import instructor"
   ]
  },
  {
   "cell_type": "code",
   "execution_count": 4,
   "metadata": {},
   "outputs": [],
   "source": [
    "client = instructor.from_openai(openai.AsyncOpenAI())"
   ]
  },
  {
   "cell_type": "code",
   "execution_count": 5,
   "metadata": {},
   "outputs": [],
   "source": [
    "from typing import List\n",
    "from pydantic import BaseModel, ValidationInfo, model_validator"
   ]
  },
  {
   "cell_type": "code",
   "execution_count": 8,
   "metadata": {},
   "outputs": [],
   "source": [
    "class Tag(BaseModel):\n",
    "    id: int\n",
    "    name: str\n",
    "\n",
    "    @model_validator(mode=\"after\")\n",
    "    def validate_ids(self, info: ValidationInfo):\n",
    "        context = info.context\n",
    "        if context:\n",
    "            tags: List[Tag] = context.get(\"tags\")\n",
    "            assert self.id in {tag.id for tag in tags}, f\"Tag id {self.id} not found in tags\"\n",
    "            assert self.name in {tag.name for tag in tags}, f\"Tag name {self.name} not found in tags\"\n",
    "        return self\n",
    "\n",
    "class TagWithInstructions(Tag):\n",
    "    instructions: str\n",
    "    \n",
    "class TagRequest(BaseModel):\n",
    "    texts: list[str]\n",
    "    tags: list[TagWithInstructions]\n",
    "    \n",
    "\n",
    "class TagResponse(BaseModel):\n",
    "    texts: list[str]\n",
    "    predictions: list[Tag]"
   ]
  },
  {
   "cell_type": "code",
   "execution_count": 7,
   "metadata": {},
   "outputs": [],
   "source": [
    "import asyncio \n",
    "async def tag_single_request(text: str, tags: list[Tag]) -> Tag:\n",
    "    allowed_tags = [(tag.id, tag.name) for tag in tags]\n",
    "    allowed_tags_str = \", \".join([f\"`{tag}`\" for tag in allowed_tags])\n",
    "    \n",
    "    return await client.chat.completions.create(\n",
    "        model=\"gpt-4-turbo-preview\",\n",
    "        messages=[\n",
    "            {\"role\": \"system\", \"content\": \"You are a world-class text tagging system.\"},\n",
    "            {\"role\": \"user\", \"content\": f\"Describe the following text: `{text}`\"},\n",
    "            {\"role\": \"user\", \"content\": f\"Here are the allowed tags: {allowed_tags_str}\"},\n",
    "        ],\n",
    "        response_model=Tag,\n",
    "        validation_context={\"tags\": tags},\n",
    "    )\n",
    "    \n",
    "async def tag_requests(request: TagRequest) -> TagResponse:\n",
    "    predictions = await asyncio.gather(\n",
    "      *[tag_single_request(text, request.tags) for text in request.texts]\n",
    "    )\n",
    "    return TagResponse(\n",
    "      texts=request.texts,\n",
    "      predictions=predictions,\n",
    "    )"
   ]
  },
  {
   "cell_type": "code",
   "execution_count": null,
   "metadata": {},
   "outputs": [],
   "source": []
  }
 ],
 "metadata": {
  "kernelspec": {
   "display_name": ".venv",
   "language": "python",
   "name": "python3"
  },
  "language_info": {
   "codemirror_mode": {
    "name": "ipython",
    "version": 3
   },
   "file_extension": ".py",
   "mimetype": "text/x-python",
   "name": "python",
   "nbconvert_exporter": "python",
   "pygments_lexer": "ipython3",
   "version": "3.10.10"
  }
 },
 "nbformat": 4,
 "nbformat_minor": 2
}
